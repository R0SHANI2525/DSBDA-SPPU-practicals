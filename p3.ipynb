{
 "cells": [
  {
   "cell_type": "code",
   "execution_count": 2,
   "id": "e37f32d9-6fc1-4859-87b9-eb9e70228802",
   "metadata": {},
   "outputs": [
    {
     "ename": "SyntaxError",
     "evalue": "invalid syntax (3992931989.py, line 1)",
     "output_type": "error",
     "traceback": [
      "\u001b[1;36m  Cell \u001b[1;32mIn[2], line 1\u001b[1;36m\u001b[0m\n\u001b[1;33m    3. Perform the following operations on iris dataset\u001b[0m\n\u001b[1;37m       ^\u001b[0m\n\u001b[1;31mSyntaxError\u001b[0m\u001b[1;31m:\u001b[0m invalid syntax\n"
     ]
    }
   ],
   "source": [
    "3. Perform the following operations on iris dataset\n",
    "1. Display mean, median, minimum, maximum, standard deviation\n",
    "2. Provide mean, median, minimum, maximum, standard deviation for a\n",
    "given dataset by grouping using one of the qualitative (categorical)\n",
    "variable\n",
    "3. Display missing values and inconsistencies.\n",
    "4. Replace missing values using any 2 suitable"
   ]
  },
  {
   "cell_type": "code",
   "execution_count": 3,
   "id": "be2cff9b-f802-4960-8fe7-a0ee2637472b",
   "metadata": {},
   "outputs": [],
   "source": [
    "import pandas as pd\n",
    "import numpy as np\n",
    "import statistics"
   ]
  },
  {
   "cell_type": "code",
   "execution_count": 4,
   "id": "592d2a96-938b-4137-88f7-d29f69317d06",
   "metadata": {},
   "outputs": [],
   "source": [
    "df=pd.read_csv(\"iris.csv\")"
   ]
  },
  {
   "cell_type": "code",
   "execution_count": 5,
   "id": "028070dd-27ae-446f-b375-bd90bd837708",
   "metadata": {},
   "outputs": [
    {
     "name": "stderr",
     "output_type": "stream",
     "text": [
      "C:\\Users\\rajas\\AppData\\Local\\Temp\\ipykernel_10492\\2619840169.py:2: FutureWarning: The provided callable <function sum at 0x0000021D33C0E5F0> is currently using SeriesGroupBy.sum. In a future version of pandas, the provided callable will be used directly. To keep current behavior pass the string \"sum\" instead.\n",
      "  data.agg([np.sum, np.mean, np.max,np.std,statistics.mode])\n",
      "C:\\Users\\rajas\\AppData\\Local\\Temp\\ipykernel_10492\\2619840169.py:2: FutureWarning: The provided callable <function mean at 0x0000021D33C0F520> is currently using SeriesGroupBy.mean. In a future version of pandas, the provided callable will be used directly. To keep current behavior pass the string \"mean\" instead.\n",
      "  data.agg([np.sum, np.mean, np.max,np.std,statistics.mode])\n",
      "C:\\Users\\rajas\\AppData\\Local\\Temp\\ipykernel_10492\\2619840169.py:2: FutureWarning: The provided callable <function max at 0x0000021D33C0EC20> is currently using SeriesGroupBy.max. In a future version of pandas, the provided callable will be used directly. To keep current behavior pass the string \"max\" instead.\n",
      "  data.agg([np.sum, np.mean, np.max,np.std,statistics.mode])\n",
      "C:\\Users\\rajas\\AppData\\Local\\Temp\\ipykernel_10492\\2619840169.py:2: FutureWarning: The provided callable <function std at 0x0000021D33C0F640> is currently using SeriesGroupBy.std. In a future version of pandas, the provided callable will be used directly. To keep current behavior pass the string \"std\" instead.\n",
      "  data.agg([np.sum, np.mean, np.max,np.std,statistics.mode])\n",
      "C:\\Users\\rajas\\AppData\\Local\\Temp\\ipykernel_10492\\2619840169.py:2: FutureWarning: The provided callable <function sum at 0x0000021D33C0E5F0> is currently using SeriesGroupBy.sum. In a future version of pandas, the provided callable will be used directly. To keep current behavior pass the string \"sum\" instead.\n",
      "  data.agg([np.sum, np.mean, np.max,np.std,statistics.mode])\n"
     ]
    },
    {
     "data": {
      "text/html": [
       "<div>\n",
       "<style scoped>\n",
       "    .dataframe tbody tr th:only-of-type {\n",
       "        vertical-align: middle;\n",
       "    }\n",
       "\n",
       "    .dataframe tbody tr th {\n",
       "        vertical-align: top;\n",
       "    }\n",
       "\n",
       "    .dataframe thead tr th {\n",
       "        text-align: left;\n",
       "    }\n",
       "\n",
       "    .dataframe thead tr:last-of-type th {\n",
       "        text-align: right;\n",
       "    }\n",
       "</style>\n",
       "<table border=\"1\" class=\"dataframe\">\n",
       "  <thead>\n",
       "    <tr>\n",
       "      <th></th>\n",
       "      <th colspan=\"5\" halign=\"left\">Id</th>\n",
       "      <th colspan=\"5\" halign=\"left\">SepalLengthCm</th>\n",
       "      <th>...</th>\n",
       "      <th colspan=\"5\" halign=\"left\">PetalLengthCm</th>\n",
       "      <th colspan=\"5\" halign=\"left\">PetalWidthCm</th>\n",
       "    </tr>\n",
       "    <tr>\n",
       "      <th></th>\n",
       "      <th>sum</th>\n",
       "      <th>mean</th>\n",
       "      <th>max</th>\n",
       "      <th>std</th>\n",
       "      <th>mode</th>\n",
       "      <th>sum</th>\n",
       "      <th>mean</th>\n",
       "      <th>max</th>\n",
       "      <th>std</th>\n",
       "      <th>mode</th>\n",
       "      <th>...</th>\n",
       "      <th>sum</th>\n",
       "      <th>mean</th>\n",
       "      <th>max</th>\n",
       "      <th>std</th>\n",
       "      <th>mode</th>\n",
       "      <th>sum</th>\n",
       "      <th>mean</th>\n",
       "      <th>max</th>\n",
       "      <th>std</th>\n",
       "      <th>mode</th>\n",
       "    </tr>\n",
       "    <tr>\n",
       "      <th>Species</th>\n",
       "      <th></th>\n",
       "      <th></th>\n",
       "      <th></th>\n",
       "      <th></th>\n",
       "      <th></th>\n",
       "      <th></th>\n",
       "      <th></th>\n",
       "      <th></th>\n",
       "      <th></th>\n",
       "      <th></th>\n",
       "      <th></th>\n",
       "      <th></th>\n",
       "      <th></th>\n",
       "      <th></th>\n",
       "      <th></th>\n",
       "      <th></th>\n",
       "      <th></th>\n",
       "      <th></th>\n",
       "      <th></th>\n",
       "      <th></th>\n",
       "      <th></th>\n",
       "    </tr>\n",
       "  </thead>\n",
       "  <tbody>\n",
       "    <tr>\n",
       "      <th>Iris-setosa</th>\n",
       "      <td>1275</td>\n",
       "      <td>25.5</td>\n",
       "      <td>50</td>\n",
       "      <td>14.57738</td>\n",
       "      <td>1</td>\n",
       "      <td>250.3</td>\n",
       "      <td>5.006</td>\n",
       "      <td>5.8</td>\n",
       "      <td>0.352490</td>\n",
       "      <td>5.1</td>\n",
       "      <td>...</td>\n",
       "      <td>73.2</td>\n",
       "      <td>1.464</td>\n",
       "      <td>1.9</td>\n",
       "      <td>0.173511</td>\n",
       "      <td>1.5</td>\n",
       "      <td>12.2</td>\n",
       "      <td>0.244</td>\n",
       "      <td>0.6</td>\n",
       "      <td>0.107210</td>\n",
       "      <td>0.2</td>\n",
       "    </tr>\n",
       "    <tr>\n",
       "      <th>Iris-versicolor</th>\n",
       "      <td>3775</td>\n",
       "      <td>75.5</td>\n",
       "      <td>100</td>\n",
       "      <td>14.57738</td>\n",
       "      <td>51</td>\n",
       "      <td>296.8</td>\n",
       "      <td>5.936</td>\n",
       "      <td>7.0</td>\n",
       "      <td>0.516171</td>\n",
       "      <td>5.5</td>\n",
       "      <td>...</td>\n",
       "      <td>213.0</td>\n",
       "      <td>4.260</td>\n",
       "      <td>5.1</td>\n",
       "      <td>0.469911</td>\n",
       "      <td>4.5</td>\n",
       "      <td>66.3</td>\n",
       "      <td>1.326</td>\n",
       "      <td>1.8</td>\n",
       "      <td>0.197753</td>\n",
       "      <td>1.3</td>\n",
       "    </tr>\n",
       "    <tr>\n",
       "      <th>Iris-virginica</th>\n",
       "      <td>6275</td>\n",
       "      <td>125.5</td>\n",
       "      <td>150</td>\n",
       "      <td>14.57738</td>\n",
       "      <td>101</td>\n",
       "      <td>329.4</td>\n",
       "      <td>6.588</td>\n",
       "      <td>7.9</td>\n",
       "      <td>0.635880</td>\n",
       "      <td>6.3</td>\n",
       "      <td>...</td>\n",
       "      <td>277.6</td>\n",
       "      <td>5.552</td>\n",
       "      <td>6.9</td>\n",
       "      <td>0.551895</td>\n",
       "      <td>5.1</td>\n",
       "      <td>101.3</td>\n",
       "      <td>2.026</td>\n",
       "      <td>2.5</td>\n",
       "      <td>0.274650</td>\n",
       "      <td>1.8</td>\n",
       "    </tr>\n",
       "  </tbody>\n",
       "</table>\n",
       "<p>3 rows × 25 columns</p>\n",
       "</div>"
      ],
      "text/plain": [
       "                   Id                            SepalLengthCm              \\\n",
       "                  sum   mean  max       std mode           sum   mean  max   \n",
       "Species                                                                      \n",
       "Iris-setosa      1275   25.5   50  14.57738    1         250.3  5.006  5.8   \n",
       "Iris-versicolor  3775   75.5  100  14.57738   51         296.8  5.936  7.0   \n",
       "Iris-virginica   6275  125.5  150  14.57738  101         329.4  6.588  7.9   \n",
       "\n",
       "                                ... PetalLengthCm                             \\\n",
       "                      std mode  ...           sum   mean  max       std mode   \n",
       "Species                         ...                                            \n",
       "Iris-setosa      0.352490  5.1  ...          73.2  1.464  1.9  0.173511  1.5   \n",
       "Iris-versicolor  0.516171  5.5  ...         213.0  4.260  5.1  0.469911  4.5   \n",
       "Iris-virginica   0.635880  6.3  ...         277.6  5.552  6.9  0.551895  5.1   \n",
       "\n",
       "                PetalWidthCm                             \n",
       "                         sum   mean  max       std mode  \n",
       "Species                                                  \n",
       "Iris-setosa             12.2  0.244  0.6  0.107210  0.2  \n",
       "Iris-versicolor         66.3  1.326  1.8  0.197753  1.3  \n",
       "Iris-virginica         101.3  2.026  2.5  0.274650  1.8  \n",
       "\n",
       "[3 rows x 25 columns]"
      ]
     },
     "execution_count": 5,
     "metadata": {},
     "output_type": "execute_result"
    }
   ],
   "source": [
    "data = df.groupby([\"Species\"])\n",
    "data.agg([np.sum, np.mean, np.max,np.std,statistics.mode])"
   ]
  },
  {
   "cell_type": "code",
   "execution_count": null,
   "id": "d9980dfa-6c37-4bc0-9e3f-e5836eb7072f",
   "metadata": {},
   "outputs": [
    {
     "data": {
      "text/plain": [
       "Species\n",
       "Iris-setosa        3.4\n",
       "Iris-versicolor    3.0\n",
       "Iris-virginica     3.0\n",
       "Name: SepalWidthCm, dtype: float64"
      ]
     },
     "execution_count": 4,
     "metadata": {},
     "output_type": "execute_result"
    }
   ],
   "source": [
    "df.groupby([\"Species\"])[\"SepalWidthCm\"].apply(statistics.mode)"
   ]
  },
  {
   "cell_type": "code",
   "execution_count": null,
   "id": "ad52390c-6d66-4b94-b0c8-4ec939919af8",
   "metadata": {},
   "outputs": [
    {
     "data": {
      "text/plain": [
       "Id               0\n",
       "SepalLengthCm    0\n",
       "SepalWidthCm     0\n",
       "PetalLengthCm    0\n",
       "PetalWidthCm     0\n",
       "Species          0\n",
       "dtype: int64"
      ]
     },
     "execution_count": 5,
     "metadata": {},
     "output_type": "execute_result"
    }
   ],
   "source": [
    "df.isnull().sum()"
   ]
  },
  {
   "cell_type": "code",
   "execution_count": null,
   "id": "ff30190d-76aa-4354-861e-b6c34283efdd",
   "metadata": {},
   "outputs": [
    {
     "name": "stderr",
     "output_type": "stream",
     "text": [
      "C:\\Users\\rajas\\AppData\\Local\\Temp\\ipykernel_15616\\3630700459.py:2: FutureWarning: The provided callable <function sum at 0x000002268FE4AB90> is currently using SeriesGroupBy.sum. In a future version of pandas, the provided callable will be used directly. To keep current behavior pass the string \"sum\" instead.\n",
      "  data.agg([np.sum,np.min,np.max,np.std,statistics.mode,np.median])\n",
      "C:\\Users\\rajas\\AppData\\Local\\Temp\\ipykernel_15616\\3630700459.py:2: FutureWarning: The provided callable <function min at 0x000002268FE4B2E0> is currently using SeriesGroupBy.min. In a future version of pandas, the provided callable will be used directly. To keep current behavior pass the string \"min\" instead.\n",
      "  data.agg([np.sum,np.min,np.max,np.std,statistics.mode,np.median])\n",
      "C:\\Users\\rajas\\AppData\\Local\\Temp\\ipykernel_15616\\3630700459.py:2: FutureWarning: The provided callable <function max at 0x000002268FE4B1C0> is currently using SeriesGroupBy.max. In a future version of pandas, the provided callable will be used directly. To keep current behavior pass the string \"max\" instead.\n",
      "  data.agg([np.sum,np.min,np.max,np.std,statistics.mode,np.median])\n",
      "C:\\Users\\rajas\\AppData\\Local\\Temp\\ipykernel_15616\\3630700459.py:2: FutureWarning: The provided callable <function std at 0x000002268FE4BBE0> is currently using SeriesGroupBy.std. In a future version of pandas, the provided callable will be used directly. To keep current behavior pass the string \"std\" instead.\n",
      "  data.agg([np.sum,np.min,np.max,np.std,statistics.mode,np.median])\n",
      "C:\\Users\\rajas\\AppData\\Local\\Temp\\ipykernel_15616\\3630700459.py:2: FutureWarning: The provided callable <function median at 0x000002268FF77250> is currently using SeriesGroupBy.median. In a future version of pandas, the provided callable will be used directly. To keep current behavior pass the string \"median\" instead.\n",
      "  data.agg([np.sum,np.min,np.max,np.std,statistics.mode,np.median])\n"
     ]
    },
    {
     "data": {
      "text/html": [
       "<div>\n",
       "<style scoped>\n",
       "    .dataframe tbody tr th:only-of-type {\n",
       "        vertical-align: middle;\n",
       "    }\n",
       "\n",
       "    .dataframe tbody tr th {\n",
       "        vertical-align: top;\n",
       "    }\n",
       "\n",
       "    .dataframe thead th {\n",
       "        text-align: right;\n",
       "    }\n",
       "</style>\n",
       "<table border=\"1\" class=\"dataframe\">\n",
       "  <thead>\n",
       "    <tr style=\"text-align: right;\">\n",
       "      <th></th>\n",
       "      <th>sum</th>\n",
       "      <th>min</th>\n",
       "      <th>max</th>\n",
       "      <th>std</th>\n",
       "      <th>mode</th>\n",
       "      <th>median</th>\n",
       "    </tr>\n",
       "    <tr>\n",
       "      <th>Species</th>\n",
       "      <th></th>\n",
       "      <th></th>\n",
       "      <th></th>\n",
       "      <th></th>\n",
       "      <th></th>\n",
       "      <th></th>\n",
       "    </tr>\n",
       "  </thead>\n",
       "  <tbody>\n",
       "    <tr>\n",
       "      <th>Iris-setosa</th>\n",
       "      <td>170.9</td>\n",
       "      <td>2.3</td>\n",
       "      <td>4.4</td>\n",
       "      <td>0.381024</td>\n",
       "      <td>3.4</td>\n",
       "      <td>3.4</td>\n",
       "    </tr>\n",
       "    <tr>\n",
       "      <th>Iris-versicolor</th>\n",
       "      <td>138.5</td>\n",
       "      <td>2.0</td>\n",
       "      <td>3.4</td>\n",
       "      <td>0.313798</td>\n",
       "      <td>3.0</td>\n",
       "      <td>2.8</td>\n",
       "    </tr>\n",
       "    <tr>\n",
       "      <th>Iris-virginica</th>\n",
       "      <td>148.7</td>\n",
       "      <td>2.2</td>\n",
       "      <td>3.8</td>\n",
       "      <td>0.322497</td>\n",
       "      <td>3.0</td>\n",
       "      <td>3.0</td>\n",
       "    </tr>\n",
       "  </tbody>\n",
       "</table>\n",
       "</div>"
      ],
      "text/plain": [
       "                   sum  min  max       std  mode  median\n",
       "Species                                                 \n",
       "Iris-setosa      170.9  2.3  4.4  0.381024   3.4     3.4\n",
       "Iris-versicolor  138.5  2.0  3.4  0.313798   3.0     2.8\n",
       "Iris-virginica   148.7  2.2  3.8  0.322497   3.0     3.0"
      ]
     },
     "execution_count": 6,
     "metadata": {},
     "output_type": "execute_result"
    }
   ],
   "source": [
    "data = df.groupby([\"Species\"])[\"SepalWidthCm\"]\n",
    "data.agg([np.sum,np.min,np.max,np.std,statistics.mode,np.median])"
   ]
  },
  {
   "cell_type": "code",
   "execution_count": null,
   "id": "c96ad836-65c0-49c8-bd54-76e5c7794225",
   "metadata": {},
   "outputs": [],
   "source": []
  }
 ],
 "metadata": {
  "kernelspec": {
   "display_name": "Python 3 (ipykernel)",
   "language": "python",
   "name": "python3"
  },
  "language_info": {
   "codemirror_mode": {
    "name": "ipython",
    "version": 3
   },
   "file_extension": ".py",
   "mimetype": "text/x-python",
   "name": "python",
   "nbconvert_exporter": "python",
   "pygments_lexer": "ipython3",
   "version": "3.10.4"
  }
 },
 "nbformat": 4,
 "nbformat_minor": 5
}
